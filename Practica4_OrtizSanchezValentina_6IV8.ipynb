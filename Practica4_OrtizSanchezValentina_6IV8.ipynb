{
 "cells": [
  {
   "cell_type": "code",
   "execution_count": null,
   "id": "b58e6659",
   "metadata": {},
   "outputs": [
    {
     "name": "stdout",
     "output_type": "stream",
     "text": [
      "Requirement already satisfied: pip in c:\\users\\isaac\\anaconda3\\lib\\site-packages (24.2)\n",
      "Collecting pip\n",
      "  Using cached pip-25.1.1-py3-none-any.whl.metadata (3.6 kB)\n",
      "Using cached pip-25.1.1-py3-none-any.whl (1.8 MB)\n",
      "Installing collected packages: pip\n",
      "  Attempting uninstall: pip\n",
      "    Found existing installation: pip 24.2\n",
      "    Uninstalling pip-24.2:\n",
      "      Successfully uninstalled pip-24.2\n",
      "Successfully installed pip-25.1.1\n",
      "Note: you may need to restart the kernel to use updated packages.\n",
      "Requirement already satisfied: tensorflow in c:\\users\\isaac\\anaconda3\\lib\\site-packages (2.19.0)\n",
      "Requirement already satisfied: absl-py>=1.0.0 in c:\\users\\isaac\\anaconda3\\lib\\site-packages (from tensorflow) (2.3.0)\n",
      "Requirement already satisfied: astunparse>=1.6.0 in c:\\users\\isaac\\anaconda3\\lib\\site-packages (from tensorflow) (1.6.3)\n",
      "Requirement already satisfied: flatbuffers>=24.3.25 in c:\\users\\isaac\\anaconda3\\lib\\site-packages (from tensorflow) (25.2.10)\n",
      "Requirement already satisfied: gast!=0.5.0,!=0.5.1,!=0.5.2,>=0.2.1 in c:\\users\\isaac\\anaconda3\\lib\\site-packages (from tensorflow) (0.6.0)\n",
      "Requirement already satisfied: google-pasta>=0.1.1 in c:\\users\\isaac\\anaconda3\\lib\\site-packages (from tensorflow) (0.2.0)\n",
      "Requirement already satisfied: libclang>=13.0.0 in c:\\users\\isaac\\anaconda3\\lib\\site-packages (from tensorflow) (18.1.1)\n",
      "Requirement already satisfied: opt-einsum>=2.3.2 in c:\\users\\isaac\\anaconda3\\lib\\site-packages (from tensorflow) (3.4.0)\n",
      "Requirement already satisfied: packaging in c:\\users\\isaac\\anaconda3\\lib\\site-packages (from tensorflow) (24.1)\n",
      "Requirement already satisfied: protobuf!=4.21.0,!=4.21.1,!=4.21.2,!=4.21.3,!=4.21.4,!=4.21.5,<6.0.0dev,>=3.20.3 in c:\\users\\isaac\\anaconda3\\lib\\site-packages (from tensorflow) (4.25.3)\n",
      "Requirement already satisfied: requests<3,>=2.21.0 in c:\\users\\isaac\\anaconda3\\lib\\site-packages (from tensorflow) (2.32.3)\n",
      "Requirement already satisfied: setuptools in c:\\users\\isaac\\anaconda3\\lib\\site-packages (from tensorflow) (75.1.0)\n",
      "Requirement already satisfied: six>=1.12.0 in c:\\users\\isaac\\anaconda3\\lib\\site-packages (from tensorflow) (1.16.0)\n",
      "Requirement already satisfied: termcolor>=1.1.0 in c:\\users\\isaac\\anaconda3\\lib\\site-packages (from tensorflow) (3.1.0)\n",
      "Requirement already satisfied: typing-extensions>=3.6.6 in c:\\users\\isaac\\anaconda3\\lib\\site-packages (from tensorflow) (4.11.0)\n",
      "Requirement already satisfied: wrapt>=1.11.0 in c:\\users\\isaac\\anaconda3\\lib\\site-packages (from tensorflow) (1.14.1)\n",
      "Requirement already satisfied: grpcio<2.0,>=1.24.3 in c:\\users\\isaac\\anaconda3\\lib\\site-packages (from tensorflow) (1.73.1)\n",
      "Requirement already satisfied: tensorboard~=2.19.0 in c:\\users\\isaac\\anaconda3\\lib\\site-packages (from tensorflow) (2.19.0)\n",
      "Requirement already satisfied: keras>=3.5.0 in c:\\users\\isaac\\anaconda3\\lib\\site-packages (from tensorflow) (3.10.0)\n",
      "Requirement already satisfied: numpy<2.2.0,>=1.26.0 in c:\\users\\isaac\\anaconda3\\lib\\site-packages (from tensorflow) (1.26.4)\n",
      "Requirement already satisfied: h5py>=3.11.0 in c:\\users\\isaac\\anaconda3\\lib\\site-packages (from tensorflow) (3.11.0)\n",
      "Requirement already satisfied: ml-dtypes<1.0.0,>=0.5.1 in c:\\users\\isaac\\anaconda3\\lib\\site-packages (from tensorflow) (0.5.1)\n",
      "Requirement already satisfied: charset-normalizer<4,>=2 in c:\\users\\isaac\\anaconda3\\lib\\site-packages (from requests<3,>=2.21.0->tensorflow) (3.3.2)\n",
      "Requirement already satisfied: idna<4,>=2.5 in c:\\users\\isaac\\anaconda3\\lib\\site-packages (from requests<3,>=2.21.0->tensorflow) (3.7)\n",
      "Requirement already satisfied: urllib3<3,>=1.21.1 in c:\\users\\isaac\\anaconda3\\lib\\site-packages (from requests<3,>=2.21.0->tensorflow) (2.2.3)\n",
      "Requirement already satisfied: certifi>=2017.4.17 in c:\\users\\isaac\\anaconda3\\lib\\site-packages (from requests<3,>=2.21.0->tensorflow) (2025.1.31)\n",
      "Requirement already satisfied: markdown>=2.6.8 in c:\\users\\isaac\\anaconda3\\lib\\site-packages (from tensorboard~=2.19.0->tensorflow) (3.4.1)\n",
      "Requirement already satisfied: tensorboard-data-server<0.8.0,>=0.7.0 in c:\\users\\isaac\\anaconda3\\lib\\site-packages (from tensorboard~=2.19.0->tensorflow) (0.7.2)\n",
      "Requirement already satisfied: werkzeug>=1.0.1 in c:\\users\\isaac\\anaconda3\\lib\\site-packages (from tensorboard~=2.19.0->tensorflow) (3.0.3)\n",
      "Requirement already satisfied: wheel<1.0,>=0.23.0 in c:\\users\\isaac\\anaconda3\\lib\\site-packages (from astunparse>=1.6.0->tensorflow) (0.44.0)\n",
      "Requirement already satisfied: rich in c:\\users\\isaac\\anaconda3\\lib\\site-packages (from keras>=3.5.0->tensorflow) (13.7.1)\n",
      "Requirement already satisfied: namex in c:\\users\\isaac\\anaconda3\\lib\\site-packages (from keras>=3.5.0->tensorflow) (0.1.0)\n",
      "Requirement already satisfied: optree in c:\\users\\isaac\\anaconda3\\lib\\site-packages (from keras>=3.5.0->tensorflow) (0.16.0)\n",
      "Requirement already satisfied: MarkupSafe>=2.1.1 in c:\\users\\isaac\\anaconda3\\lib\\site-packages (from werkzeug>=1.0.1->tensorboard~=2.19.0->tensorflow) (2.1.3)\n",
      "Requirement already satisfied: markdown-it-py>=2.2.0 in c:\\users\\isaac\\anaconda3\\lib\\site-packages (from rich->keras>=3.5.0->tensorflow) (2.2.0)\n",
      "Requirement already satisfied: pygments<3.0.0,>=2.13.0 in c:\\users\\isaac\\anaconda3\\lib\\site-packages (from rich->keras>=3.5.0->tensorflow) (2.15.1)\n",
      "Requirement already satisfied: mdurl~=0.1 in c:\\users\\isaac\\anaconda3\\lib\\site-packages (from markdown-it-py>=2.2.0->rich->keras>=3.5.0->tensorflow) (0.1.0)\n",
      "Note: you may need to restart the kernel to use updated packages.\n"
     ]
    }
   ],
   "source": [
    "#ORTIZ SANCHEZ VALENTINA. 6IV8.\n",
    "\n",
    "import pandas as pd \n",
    "import matplotlib.pyplot as plt\n",
    "import numpy as np\n",
    "%pip install --upgrade pip\n",
    "%pip install tensorflow\n",
    "\n",
    "from tensorflow.keras.models import Sequential\n",
    "\n",
    "from tensorflow.keras.layers import Dense\n",
    "\n",
    "from tensorflow.keras.optimizers import Adam\n",
    "from tensorflow.keras.losses import BinaryCrossentropy\n",
    "from sklearn.metrics import accuracy_score"
   ]
  },
  {
   "cell_type": "code",
   "execution_count": 12,
   "id": "a596ab94",
   "metadata": {},
   "outputs": [
    {
     "name": "stdout",
     "output_type": "stream",
     "text": [
      "<class 'pandas.core.frame.DataFrame'>\n",
      "RangeIndex: 769 entries, 0 to 768\n",
      "Data columns (total 9 columns):\n",
      " #   Column  Non-Null Count  Dtype \n",
      "---  ------  --------------  ----- \n",
      " 0   0       769 non-null    object\n",
      " 1   1       769 non-null    object\n",
      " 2   2       769 non-null    object\n",
      " 3   3       769 non-null    object\n",
      " 4   4       769 non-null    object\n",
      " 5   5       769 non-null    object\n",
      " 6   6       769 non-null    object\n",
      " 7   7       769 non-null    object\n",
      " 8   8       769 non-null    object\n",
      "dtypes: object(9)\n",
      "memory usage: 54.2+ KB\n"
     ]
    }
   ],
   "source": [
    "data_df = pd.read_csv(\"diabetes.csv\", header=None)\n",
    "data_df.info()"
   ]
  },
  {
   "cell_type": "code",
   "execution_count": 3,
   "id": "fc4b6e04",
   "metadata": {},
   "outputs": [],
   "source": [
    "X = data_df.iloc[:,0:8]\n",
    "y = data_df.iloc[:,8]"
   ]
  },
  {
   "cell_type": "code",
   "execution_count": 4,
   "id": "ef34abad",
   "metadata": {},
   "outputs": [
    {
     "data": {
      "text/plain": [
       "(768, 8)"
      ]
     },
     "execution_count": 4,
     "metadata": {},
     "output_type": "execute_result"
    }
   ],
   "source": [
    "X.shape"
   ]
  },
  {
   "cell_type": "code",
   "execution_count": null,
   "id": "03708bdb",
   "metadata": {},
   "outputs": [
    {
     "name": "stderr",
     "output_type": "stream",
     "text": [
      "c:\\Users\\Isaac\\anaconda3\\Lib\\site-packages\\keras\\src\\layers\\core\\dense.py:93: UserWarning: Do not pass an `input_shape`/`input_dim` argument to a layer. When using Sequential models, prefer using an `Input(shape)` object as the first layer in the model instead.\n",
      "  super().__init__(activity_regularizer=activity_regularizer, **kwargs)\n"
     ]
    }
   ],
   "source": [
    "model = Sequential()\n",
    "\n",
    "model.add(Dense(12, input_dim=8, activation='relu'))\n",
    "model.add(Dense(8, activation='relu'))\n",
    "\n",
    "model.add(Dense(1, activation='sigmoid'))"
   ]
  },
  {
   "cell_type": "code",
   "execution_count": 6,
   "id": "2941b053",
   "metadata": {},
   "outputs": [
    {
     "data": {
      "text/html": [
       "<pre style=\"white-space:pre;overflow-x:auto;line-height:normal;font-family:Menlo,'DejaVu Sans Mono',consolas,'Courier New',monospace\"><span style=\"font-weight: bold\">Model: \"sequential\"</span>\n",
       "</pre>\n"
      ],
      "text/plain": [
       "\u001b[1mModel: \"sequential\"\u001b[0m\n"
      ]
     },
     "metadata": {},
     "output_type": "display_data"
    },
    {
     "data": {
      "text/html": [
       "<pre style=\"white-space:pre;overflow-x:auto;line-height:normal;font-family:Menlo,'DejaVu Sans Mono',consolas,'Courier New',monospace\">┏━━━━━━━━━━━━━━━━━━━━━━━━━━━━━━━━━┳━━━━━━━━━━━━━━━━━━━━━━━━┳━━━━━━━━━━━━━━━┓\n",
       "┃<span style=\"font-weight: bold\"> Layer (type)                    </span>┃<span style=\"font-weight: bold\"> Output Shape           </span>┃<span style=\"font-weight: bold\">       Param # </span>┃\n",
       "┡━━━━━━━━━━━━━━━━━━━━━━━━━━━━━━━━━╇━━━━━━━━━━━━━━━━━━━━━━━━╇━━━━━━━━━━━━━━━┩\n",
       "│ dense (<span style=\"color: #0087ff; text-decoration-color: #0087ff\">Dense</span>)                   │ (<span style=\"color: #00d7ff; text-decoration-color: #00d7ff\">None</span>, <span style=\"color: #00af00; text-decoration-color: #00af00\">12</span>)             │           <span style=\"color: #00af00; text-decoration-color: #00af00\">108</span> │\n",
       "├─────────────────────────────────┼────────────────────────┼───────────────┤\n",
       "│ dense_1 (<span style=\"color: #0087ff; text-decoration-color: #0087ff\">Dense</span>)                 │ (<span style=\"color: #00d7ff; text-decoration-color: #00d7ff\">None</span>, <span style=\"color: #00af00; text-decoration-color: #00af00\">8</span>)              │           <span style=\"color: #00af00; text-decoration-color: #00af00\">104</span> │\n",
       "├─────────────────────────────────┼────────────────────────┼───────────────┤\n",
       "│ dense_2 (<span style=\"color: #0087ff; text-decoration-color: #0087ff\">Dense</span>)                 │ (<span style=\"color: #00d7ff; text-decoration-color: #00d7ff\">None</span>, <span style=\"color: #00af00; text-decoration-color: #00af00\">1</span>)              │             <span style=\"color: #00af00; text-decoration-color: #00af00\">9</span> │\n",
       "└─────────────────────────────────┴────────────────────────┴───────────────┘\n",
       "</pre>\n"
      ],
      "text/plain": [
       "┏━━━━━━━━━━━━━━━━━━━━━━━━━━━━━━━━━┳━━━━━━━━━━━━━━━━━━━━━━━━┳━━━━━━━━━━━━━━━┓\n",
       "┃\u001b[1m \u001b[0m\u001b[1mLayer (type)                   \u001b[0m\u001b[1m \u001b[0m┃\u001b[1m \u001b[0m\u001b[1mOutput Shape          \u001b[0m\u001b[1m \u001b[0m┃\u001b[1m \u001b[0m\u001b[1m      Param #\u001b[0m\u001b[1m \u001b[0m┃\n",
       "┡━━━━━━━━━━━━━━━━━━━━━━━━━━━━━━━━━╇━━━━━━━━━━━━━━━━━━━━━━━━╇━━━━━━━━━━━━━━━┩\n",
       "│ dense (\u001b[38;5;33mDense\u001b[0m)                   │ (\u001b[38;5;45mNone\u001b[0m, \u001b[38;5;34m12\u001b[0m)             │           \u001b[38;5;34m108\u001b[0m │\n",
       "├─────────────────────────────────┼────────────────────────┼───────────────┤\n",
       "│ dense_1 (\u001b[38;5;33mDense\u001b[0m)                 │ (\u001b[38;5;45mNone\u001b[0m, \u001b[38;5;34m8\u001b[0m)              │           \u001b[38;5;34m104\u001b[0m │\n",
       "├─────────────────────────────────┼────────────────────────┼───────────────┤\n",
       "│ dense_2 (\u001b[38;5;33mDense\u001b[0m)                 │ (\u001b[38;5;45mNone\u001b[0m, \u001b[38;5;34m1\u001b[0m)              │             \u001b[38;5;34m9\u001b[0m │\n",
       "└─────────────────────────────────┴────────────────────────┴───────────────┘\n"
      ]
     },
     "metadata": {},
     "output_type": "display_data"
    },
    {
     "data": {
      "text/html": [
       "<pre style=\"white-space:pre;overflow-x:auto;line-height:normal;font-family:Menlo,'DejaVu Sans Mono',consolas,'Courier New',monospace\"><span style=\"font-weight: bold\"> Total params: </span><span style=\"color: #00af00; text-decoration-color: #00af00\">221</span> (884.00 B)\n",
       "</pre>\n"
      ],
      "text/plain": [
       "\u001b[1m Total params: \u001b[0m\u001b[38;5;34m221\u001b[0m (884.00 B)\n"
      ]
     },
     "metadata": {},
     "output_type": "display_data"
    },
    {
     "data": {
      "text/html": [
       "<pre style=\"white-space:pre;overflow-x:auto;line-height:normal;font-family:Menlo,'DejaVu Sans Mono',consolas,'Courier New',monospace\"><span style=\"font-weight: bold\"> Trainable params: </span><span style=\"color: #00af00; text-decoration-color: #00af00\">221</span> (884.00 B)\n",
       "</pre>\n"
      ],
      "text/plain": [
       "\u001b[1m Trainable params: \u001b[0m\u001b[38;5;34m221\u001b[0m (884.00 B)\n"
      ]
     },
     "metadata": {},
     "output_type": "display_data"
    },
    {
     "data": {
      "text/html": [
       "<pre style=\"white-space:pre;overflow-x:auto;line-height:normal;font-family:Menlo,'DejaVu Sans Mono',consolas,'Courier New',monospace\"><span style=\"font-weight: bold\"> Non-trainable params: </span><span style=\"color: #00af00; text-decoration-color: #00af00\">0</span> (0.00 B)\n",
       "</pre>\n"
      ],
      "text/plain": [
       "\u001b[1m Non-trainable params: \u001b[0m\u001b[38;5;34m0\u001b[0m (0.00 B)\n"
      ]
     },
     "metadata": {},
     "output_type": "display_data"
    }
   ],
   "source": [
    "model.summary()"
   ]
  },
  {
   "cell_type": "code",
   "execution_count": 7,
   "id": "374d2afd",
   "metadata": {},
   "outputs": [],
   "source": [
    "model.compile(\n",
    "    loss= 'binary_crossentropy',\n",
    "    optimizer= 'adam',\n",
    "    metrics= ['accuracy']\n",
    ")"
   ]
  },
  {
   "cell_type": "code",
   "execution_count": 8,
   "id": "bb0aeacd",
   "metadata": {},
   "outputs": [
    {
     "name": "stdout",
     "output_type": "stream",
     "text": [
      "Epoch 1/75\n",
      "24/24 - 1s - 52ms/step - accuracy: 0.3490 - loss: 67.7322\n",
      "Epoch 2/75\n",
      "24/24 - 0s - 3ms/step - accuracy: 0.3490 - loss: 47.9244\n",
      "Epoch 3/75\n",
      "24/24 - 0s - 3ms/step - accuracy: 0.3490 - loss: 33.2226\n",
      "Epoch 4/75\n",
      "24/24 - 0s - 4ms/step - accuracy: 0.3490 - loss: 21.6294\n",
      "Epoch 5/75\n",
      "24/24 - 0s - 3ms/step - accuracy: 0.3451 - loss: 13.4173\n",
      "Epoch 6/75\n",
      "24/24 - 0s - 3ms/step - accuracy: 0.3555 - loss: 7.8155\n",
      "Epoch 7/75\n",
      "24/24 - 0s - 3ms/step - accuracy: 0.3737 - loss: 3.9631\n",
      "Epoch 8/75\n",
      "24/24 - 0s - 3ms/step - accuracy: 0.4062 - loss: 2.0607\n",
      "Epoch 9/75\n",
      "24/24 - 0s - 2ms/step - accuracy: 0.4779 - loss: 1.3606\n",
      "Epoch 10/75\n",
      "24/24 - 0s - 2ms/step - accuracy: 0.5326 - loss: 1.0779\n",
      "Epoch 11/75\n",
      "24/24 - 0s - 3ms/step - accuracy: 0.5820 - loss: 0.9271\n",
      "Epoch 12/75\n",
      "24/24 - 0s - 3ms/step - accuracy: 0.6081 - loss: 0.8534\n",
      "Epoch 13/75\n",
      "24/24 - 0s - 3ms/step - accuracy: 0.6185 - loss: 0.8041\n",
      "Epoch 14/75\n",
      "24/24 - 0s - 3ms/step - accuracy: 0.6172 - loss: 0.7766\n",
      "Epoch 15/75\n",
      "24/24 - 0s - 3ms/step - accuracy: 0.6237 - loss: 0.7548\n",
      "Epoch 16/75\n",
      "24/24 - 0s - 3ms/step - accuracy: 0.6328 - loss: 0.7430\n",
      "Epoch 17/75\n",
      "24/24 - 0s - 3ms/step - accuracy: 0.6393 - loss: 0.7333\n",
      "Epoch 18/75\n",
      "24/24 - 0s - 3ms/step - accuracy: 0.6393 - loss: 0.7246\n",
      "Epoch 19/75\n",
      "24/24 - 0s - 3ms/step - accuracy: 0.6367 - loss: 0.7178\n",
      "Epoch 20/75\n",
      "24/24 - 0s - 3ms/step - accuracy: 0.6406 - loss: 0.7113\n",
      "Epoch 21/75\n",
      "24/24 - 0s - 4ms/step - accuracy: 0.6419 - loss: 0.7074\n",
      "Epoch 22/75\n",
      "24/24 - 0s - 3ms/step - accuracy: 0.6367 - loss: 0.7067\n",
      "Epoch 23/75\n",
      "24/24 - 0s - 3ms/step - accuracy: 0.6380 - loss: 0.7047\n",
      "Epoch 24/75\n",
      "24/24 - 0s - 3ms/step - accuracy: 0.6328 - loss: 0.7137\n",
      "Epoch 25/75\n",
      "24/24 - 0s - 3ms/step - accuracy: 0.6432 - loss: 0.6897\n",
      "Epoch 26/75\n",
      "24/24 - 0s - 3ms/step - accuracy: 0.6458 - loss: 0.6957\n",
      "Epoch 27/75\n",
      "24/24 - 0s - 3ms/step - accuracy: 0.6445 - loss: 0.6926\n",
      "Epoch 28/75\n",
      "24/24 - 0s - 3ms/step - accuracy: 0.6445 - loss: 0.6860\n",
      "Epoch 29/75\n",
      "24/24 - 0s - 3ms/step - accuracy: 0.6510 - loss: 0.6797\n",
      "Epoch 30/75\n",
      "24/24 - 0s - 3ms/step - accuracy: 0.6406 - loss: 0.6879\n",
      "Epoch 31/75\n",
      "24/24 - 0s - 3ms/step - accuracy: 0.6536 - loss: 0.6824\n",
      "Epoch 32/75\n",
      "24/24 - 0s - 3ms/step - accuracy: 0.6471 - loss: 0.6775\n",
      "Epoch 33/75\n",
      "24/24 - 0s - 3ms/step - accuracy: 0.6562 - loss: 0.6726\n",
      "Epoch 34/75\n",
      "24/24 - 0s - 3ms/step - accuracy: 0.6549 - loss: 0.6704\n",
      "Epoch 35/75\n",
      "24/24 - 0s - 3ms/step - accuracy: 0.6576 - loss: 0.6685\n",
      "Epoch 36/75\n",
      "24/24 - 0s - 3ms/step - accuracy: 0.6562 - loss: 0.6774\n",
      "Epoch 37/75\n",
      "24/24 - 0s - 3ms/step - accuracy: 0.6562 - loss: 0.6732\n",
      "Epoch 38/75\n",
      "24/24 - 0s - 3ms/step - accuracy: 0.6523 - loss: 0.6715\n",
      "Epoch 39/75\n",
      "24/24 - 0s - 2ms/step - accuracy: 0.6549 - loss: 0.6649\n",
      "Epoch 40/75\n",
      "24/24 - 0s - 2ms/step - accuracy: 0.6615 - loss: 0.6618\n",
      "Epoch 41/75\n",
      "24/24 - 0s - 2ms/step - accuracy: 0.6562 - loss: 0.6663\n",
      "Epoch 42/75\n",
      "24/24 - 0s - 3ms/step - accuracy: 0.6536 - loss: 0.6648\n",
      "Epoch 43/75\n",
      "24/24 - 0s - 2ms/step - accuracy: 0.6549 - loss: 0.6609\n",
      "Epoch 44/75\n",
      "24/24 - 0s - 2ms/step - accuracy: 0.6628 - loss: 0.6577\n",
      "Epoch 45/75\n",
      "24/24 - 0s - 4ms/step - accuracy: 0.6523 - loss: 0.6679\n",
      "Epoch 46/75\n",
      "24/24 - 0s - 4ms/step - accuracy: 0.6562 - loss: 0.6563\n",
      "Epoch 47/75\n",
      "24/24 - 0s - 4ms/step - accuracy: 0.6628 - loss: 0.6517\n",
      "Epoch 48/75\n",
      "24/24 - 0s - 5ms/step - accuracy: 0.6641 - loss: 0.6510\n",
      "Epoch 49/75\n",
      "24/24 - 0s - 3ms/step - accuracy: 0.6615 - loss: 0.6488\n",
      "Epoch 50/75\n",
      "24/24 - 0s - 3ms/step - accuracy: 0.6589 - loss: 0.6504\n",
      "Epoch 51/75\n",
      "24/24 - 0s - 3ms/step - accuracy: 0.6589 - loss: 0.6463\n",
      "Epoch 52/75\n",
      "24/24 - 0s - 3ms/step - accuracy: 0.6615 - loss: 0.6460\n",
      "Epoch 53/75\n",
      "24/24 - 0s - 3ms/step - accuracy: 0.6562 - loss: 0.6470\n",
      "Epoch 54/75\n",
      "24/24 - 0s - 3ms/step - accuracy: 0.6589 - loss: 0.6463\n",
      "Epoch 55/75\n",
      "24/24 - 0s - 3ms/step - accuracy: 0.6628 - loss: 0.6470\n",
      "Epoch 56/75\n",
      "24/24 - 0s - 3ms/step - accuracy: 0.6628 - loss: 0.6439\n",
      "Epoch 57/75\n",
      "24/24 - 0s - 3ms/step - accuracy: 0.6680 - loss: 0.6381\n",
      "Epoch 58/75\n",
      "24/24 - 0s - 3ms/step - accuracy: 0.6641 - loss: 0.6402\n",
      "Epoch 59/75\n",
      "24/24 - 0s - 4ms/step - accuracy: 0.6589 - loss: 0.6409\n",
      "Epoch 60/75\n",
      "24/24 - 0s - 5ms/step - accuracy: 0.6654 - loss: 0.6434\n",
      "Epoch 61/75\n",
      "24/24 - 0s - 5ms/step - accuracy: 0.6667 - loss: 0.6417\n",
      "Epoch 62/75\n",
      "24/24 - 0s - 3ms/step - accuracy: 0.6628 - loss: 0.6382\n",
      "Epoch 63/75\n",
      "24/24 - 0s - 3ms/step - accuracy: 0.6576 - loss: 0.6471\n",
      "Epoch 64/75\n",
      "24/24 - 0s - 3ms/step - accuracy: 0.6654 - loss: 0.6375\n",
      "Epoch 65/75\n",
      "24/24 - 0s - 3ms/step - accuracy: 0.6654 - loss: 0.6359\n",
      "Epoch 66/75\n",
      "24/24 - 0s - 2ms/step - accuracy: 0.6654 - loss: 0.6361\n",
      "Epoch 67/75\n",
      "24/24 - 0s - 3ms/step - accuracy: 0.6602 - loss: 0.6454\n",
      "Epoch 68/75\n",
      "24/24 - 0s - 3ms/step - accuracy: 0.6628 - loss: 0.6410\n",
      "Epoch 69/75\n",
      "24/24 - 0s - 3ms/step - accuracy: 0.6667 - loss: 0.6375\n",
      "Epoch 70/75\n",
      "24/24 - 0s - 3ms/step - accuracy: 0.6628 - loss: 0.6370\n",
      "Epoch 71/75\n",
      "24/24 - 0s - 4ms/step - accuracy: 0.6680 - loss: 0.6340\n",
      "Epoch 72/75\n",
      "24/24 - 0s - 4ms/step - accuracy: 0.6693 - loss: 0.6326\n",
      "Epoch 73/75\n",
      "24/24 - 0s - 4ms/step - accuracy: 0.6615 - loss: 0.6406\n",
      "Epoch 74/75\n",
      "24/24 - 0s - 3ms/step - accuracy: 0.6667 - loss: 0.6366\n",
      "Epoch 75/75\n",
      "24/24 - 0s - 3ms/step - accuracy: 0.6654 - loss: 0.6316\n"
     ]
    }
   ],
   "source": [
    "historial = model.fit(\n",
    "    X.values,\n",
    "    y.values,\n",
    "    epochs=75,\n",
    "    verbose=2\n",
    ")"
   ]
  },
  {
   "cell_type": "code",
   "execution_count": 9,
   "id": "f6a2853b",
   "metadata": {},
   "outputs": [
    {
     "data": {
      "image/png": "[encoded data removed]",
      "text/plain": [
       "<Figure size 640x480 with 1 Axes>"
      ]
     },
     "metadata": {},
     "output_type": "display_data"
    }
   ],
   "source": [
    "plt.plot(historial.history['loss'])\n",
    "plt.show()"
   ]
  },
  {
   "cell_type": "code",
   "execution_count": 10,
   "id": "c018b079",
   "metadata": {},
   "outputs": [
    {
     "data": {
      "image/png": "[encoded data removed]",
      "text/plain": [
       "<Figure size 640x480 with 1 Axes>"
      ]
     },
     "metadata": {},
     "output_type": "display_data"
    }
   ],
   "source": [
    "plt.plot(historial.history['accuracy'])\n",
    "plt.show()"
   ]
  },
  {
   "cell_type": "markdown",
   "id": "d5a63ec8",
   "metadata": {},
   "source": [
    "**Ortiz Sánchez Valentina. 6IV8**"
   ]
  }
 ],
 "metadata": {
  "kernelspec": {
   "display_name": "base",
   "language": "python",
   "name": "python3"
  },
  "language_info": {
   "codemirror_mode": {
    "name": "ipython",
    "version": 3
   },
   "file_extension": ".py",
   "mimetype": "text/x-python",
   "name": "python",
   "nbconvert_exporter": "python",
   "pygments_lexer": "ipython3",
   "version": "3.12.7"
  }
 },
 "nbformat": 4,
 "nbformat_minor": 5
}
